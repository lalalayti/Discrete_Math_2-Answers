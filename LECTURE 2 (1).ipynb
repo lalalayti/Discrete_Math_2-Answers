{
 "cells": [
  {
   "cell_type": "markdown",
   "id": "2697f7fb-f226-4eef-9e40-03484ab3f959",
   "metadata": {},
   "source": [
    "# LECTURE 2 - ASSIGNMENT"
   ]
  },
  {
   "cell_type": "markdown",
   "id": "2c71a04f-18d2-4a02-a87d-e83edaef638a",
   "metadata": {},
   "source": [
    "## TASK NO. 1\n",
    "#### **Question 1**:\n",
    "Show that the expected value $E[y]=\\sum y\\cdot P\\left(y\\right)=n\\cdot p_i$\n"
   ]
  },
  {
   "cell_type": "markdown",
   "id": "570ae0d1-35f0-4f0a-b3ee-f11b130316e0",
   "metadata": {},
   "source": [
    "##### **1st Step: Definition of expected value**\n",
    "#### $E[y]=\\sum_yy\\cdot P\\left(y\\right)$"
   ]
  },
  {
   "cell_type": "markdown",
   "id": "026a9fa7-aa9f-4c82-bd5a-bbf40c672f8f",
   "metadata": {},
   "source": [
    "##### **2nd Step: Substitute the Joint Probability Distribution**\n",
    "Assume Y is a binomial random variable representing the number of successes in n trials, with probability of p of success in each trial. The probability mass function of Y is: <br><br>\n",
    "$P(Y=k)=\\binom{n}{k}p^k(1-p)^n-k$ <br><br>\n",
    "Therefore, the expected value E[Y] can be written as: <br><br>\n",
    "$E[Y]=\\sum_{k=0}^nk\\cdot P\\left(Y=k\\right)=\\sum_{k=0}^nk\\cdot\\binom{n}{k}p^k\\left(1-p\\right)^{n-k}$"
   ]
  },
  {
   "cell_type": "markdown",
   "id": "0f40e8d1-7e8e-46f2-b220-c890d9d4a2f9",
   "metadata": {},
   "source": [
    "##### **3rd Step: Simplify the expression by expanding the terms**\n",
    "Consider the summation term: <br><br>\n",
    "$\\sum_{k=0}^nk\\cdot\\binom{n}{k}p^k\\left(1-p\\right)^{n-k}$ <br><br>\n",
    "We can rewrite $k\\cdot\\binom{n}{k}$ as: \n",
    "#### $k\\cdot\\binom{n}{k}=n\\cdot\\binom{n-1}{k-1}$ <br><br>\n",
    "Thus, the expected value becomes: <br><br>\n",
    "$E\\left\\lbrack Y\\right\\rbrack=\\sum_{k=0}^nn\\cdot\\binom{n-1}{k-1}p^k\\left(1-p\\right)^{n-k}$\n"
   ]
  },
  {
   "cell_type": "markdown",
   "id": "1c5770e9-6d8f-46c3-abf6-4c5be3e043ad",
   "metadata": {},
   "source": [
    "##### **4th Step: Simplify the sum**\n",
    "Recognize that $\\binom{n-1}{k-1}$ shifts the index by 1. Hence, we can adjust the summation index accordingly: <br><br>\n",
    "$E\\left\\lbrack Y\\right\\rbrack=n\\cdot\\sum_{k=1}^n\\binom{n-1}{k-1}p^k\\left(1-p\\right)^{n-k}$\n",
    "<br><br>\n",
    "By changing the index k-1=j: <br><br>\n",
    "$E\\left\\lbrack Y\\right\\rbrack=n\\cdot\\sum_{j=0}^{n-1}\\binom{n-1}{j}p^{j+1}\\left(1-p\\right)^{\\left(n-1\\right)-j}$ <br><br>\n",
    "Factor out p: <br><br>\n",
    "$E\\left\\lbrack Y\\right\\rbrack=n\\cdot p\\cdot\\sum_{j=0}^{n-1}\\binom{n-1}{j}p^j\\left(1-p\\right)^{\\left(n-1\\right)-j}$\n",
    "<br><br>\n",
    "The sum is now a binomial expansion: <br><br>\n",
    "$\\sum_{j=0}^{n-1}\\binom{n-1}{j}p^j\\left(1-p\\right)^{\\left(n-1\\right)-j}=\\left(p+\\left(1-p\\right)\\right)^{n-1}=1$\n",
    "<br><br>\n",
    "Thus, the expected value simplifies to: <br><br> \n",
    "$E[Y]=n\\cdot p \\cdot 1=n\\cdot p$ <br><br>\n",
    "Therefore, we have shown that <br><br>\n",
    "$E[Y]=n\\cdot p$\n",
    "\n",
    "\n",
    "\n"
   ]
  },
  {
   "cell_type": "markdown",
   "id": "5e88244d-b69a-4b33-b8fb-a5b1fd967597",
   "metadata": {},
   "source": [
    "#### **Question 2**:\n"
   ]
  },
  {
   "cell_type": "markdown",
   "id": "4eb5850f-03e1-4839-b180-d9df0d579ab7",
   "metadata": {},
   "source": [
    "#### Probability Calculations\n",
    "1. Age 18-24:\n",
    "- Proportion: $0.18$\n",
    "- Expected number in the sample: $500 \\cdot 0.18 = 90$\n",
    "- Given number: $100$\n",
    "- Using of binomial distribution to find the probability of getting exactly 100 people. <br>\n",
    "#### $P(X=100)=\\binom{500}{100}(0.18)^{100} (0.82)^{400}$"
   ]
  },
  {
   "cell_type": "markdown",
   "id": "6390d04c-0d63-4a62-9289-88ba577a38e0",
   "metadata": {},
   "source": [
    "2. Age 25-34:\n",
    "- Proportion: $0.23$\n",
    "- Expected number in the sample: $500 \\cdot 0.23 = 115$\n",
    "- Given number: $200$\n",
    "- Using of binomial distribution to find the probability of getting exactly 200 people. <br>\n",
    "#### $P(X=200)=\\binom{500}{200}(0.23)^{200} (0.77)^{300}$"
   ]
  },
  {
   "cell_type": "markdown",
   "id": "e1264c9a-eea3-4715-aada-fecc1ed32564",
   "metadata": {},
   "source": [
    "3. Age 45-64:\n",
    "- Proportion: $0.27$\n",
    "- Expected number in the sample: $500 \\cdot 0.27 = 135$\n",
    "- Given number: $200$\n",
    "- Using of binomial distribution to find the probability of getting exactly 200 people. <br>\n",
    "#### $P(X=200)=\\binom{500}{200}(0.27)^{200} (0.73)^{300}$"
   ]
  },
  {
   "cell_type": "markdown",
   "id": "6c9e9971-8274-474a-9abe-e8ba8fe8862f",
   "metadata": {},
   "source": [
    "#### Probability Calculations\n",
    "4. Age 65 and above:\n",
    "- Proportion: $0.16$\n",
    "- Expected number in the sample: $500\\cdot 0.16 = 80$\n",
    "\n",
    "$\\therefore$ The expected number of people aged $65$ and above in a sample of $500$ adults is $80$."
   ]
  },
  {
   "cell_type": "markdown",
   "id": "548be08c-3766-435d-a496-4d070c519356",
   "metadata": {},
   "source": [
    "## TASK NO. 2\n",
    "#### **Question 1**:\n",
    "From the following steps shown above, derive the probability distribution of the experiment. We consider: \n",
    "- Number of ways to choose $k$ successes out of n trials.\n",
    "- Probability of any specific sequence of $k$ successes and $n-k$ failures."
   ]
  },
  {
   "cell_type": "markdown",
   "id": "a4089d5a-2aaa-4dea-89b0-3d05cf354ab1",
   "metadata": {},
   "source": [
    "Number of ways to choose $k$ successes out of n trials is given by the binomial coefficient: <br>\n",
    "### $\\binom{n}{k}=\\frac{n!}{k!(n-k)!}$\n",
    "Probability of any specific sequence of $k$ successes and $n-k$ failures is: \n",
    "<br>\n",
    "### $p^k(1-p)^{n-k}$\n",
    "By combining these, the probability of observing exactly $k$ successes in $n$ trials is: <br>\n",
    "### $P(Y=k)=\\binom{n}{k}p^k(1-p)^{n-k}\\longrightarrow$ This is the probability mass function of the binomial distribution."
   ]
  },
  {
   "cell_type": "markdown",
   "id": "90bafd35-4de9-4e1e-b48e-da824eff669b",
   "metadata": {},
   "source": [
    "#### **Question 2**:\n",
    "Show that the expectation of this probability distribution is $E\\left\\lbrack Y\\right\\rbrack=\\sum^{}y\\cdot P\\left(y\\right)=np$ <br><br>\n",
    "The expected value of $E[Y]$ of a binomial random variable $Y$ is calculated as: <br>\n",
    "$E[Y]=\\sum_{k=0}^nk\\cdot P\\left(Y=k\\right)$ <br><br>\n",
    "We know:\n",
    "$P(Y=k)=\\binom{n}{k}p^k(1-p)^{n-k}$ <br><br>\n",
    "So, the expectation $E[Y]$ can be written as: <br>\n",
    "$E[Y]=\\sum_{k=0}^nk\\cdot\\binom{n}{k}p^k\\left(1-p\\right)^{n-k}$"
   ]
  },
  {
   "cell_type": "markdown",
   "id": "dbab84db-6cd6-4904-a0af-2daf0e7fc929",
   "metadata": {},
   "source": [
    "#### Simplification of the sum:\n",
    "1. Rewriting the sum <br>\n",
    "   $E[Y]=\\sum_{k=1}^nk\\cdot\\binom{n}{k}p^k\\left(1-p\\right)^{n-k}$ <br><br>\n",
    "2. Using the identity $k\\cdot \\binom{n}{k}=n\\cdot \\binom{n-1}{k-1}$ <br>\n",
    "$E[Y]=\\sum_{k=1}^nn\\cdot\\binom{n-1}{k-1}p^k\\left(1-p\\right)^{n-k}$ <br><Br>\n",
    "3. Factor out the constant n <br>\n",
    "$E[Y]=n\\sum_{k=1}^n\\binom{n-1}{k-1}p^k\\left(1-p\\right)^{n-k}$ <br><br>\n",
    "4. Change the index of summation <br>\n",
    "Let $j=k-1.$ Then $k=j+1$ and as $k$ ranges from 1 to $n$, $j$ ranges from $0$ to $n-1$. <br>\n",
    "$E[Y]=n\\sum_{j=0}^{n-1}\\binom{n-1}{j}p^{j+1}\\left(1-p\\right)^{n-\\left(j+1\\right)}$ <br><br>\n",
    "5. Simplify <br>\n",
    "$E[Y]=n\\sum_{j=0}^{n-1}\\binom{n-1}{j}p^{j+1}\\left(1-p\\right)^{\\left(n-1\\right)-j}$ <br><br>\n",
    "6. Factor out $p$ <br>\n",
    "$E[Y]=n\\cdot p\\sum_{j=0}^{n-1}\\binom{n-1}{j}p^j\\left(1-p\\right)^{\\left(n-1\\right)-j}$ <br><br>\n",
    "7. Recognize the binomial expansion <br>\n",
    "The sum is a binomial expansion of $(p+(1-p))^{n-1}$ <br>\n",
    "$\\sum_{j=0}^{n-1}\\binom{n-1}{j}p^j\\left(1-p\\right)^{\\left(n-1\\right)-j}=\\left(p+\\left(1-p\\right)\\right)^{n-1}=1.$ <br><br>\n",
    "**Therefore, $E[Y]=n\\cdot p\\cdot 1 = np$**.\n"
   ]
  },
  {
   "cell_type": "markdown",
   "id": "1099735e-e095-4405-a8ae-ca4ada3ce6f9",
   "metadata": {},
   "source": [
    "#### **Question 3**:\n",
    "Given information\n",
    "- The probability of success (recovery) $p=0.3$\n",
    "- The number of trials $n=10$\n",
    "- The number of successes $k\\ge 9$ <br><br>\n",
    "  We need to find $P(X\\ge 9)$, which is the sum of the probabilities of having exactly 9 successes and 10 successes: <br>\n",
    "  $P(X\\ge 9)=P(X=9)+P(X=10)$ <br><br>\n",
    "\n",
    "##### Calculating $P(X=9)$\n",
    "$P(X=9)=\\binom{10}{9}(0.3)^9(0.7)^1$ <br>\n",
    "$\\binom{10}{9}=\\frac{10!}{9!1!}=10$ <br>\n",
    "$P(X=9)=10\\cdot (0.3)^9\\cdot(0.7)$ <br>\n",
    "$P(X=9)=10\\cdot 1.9683\\cdot 10^{-5}\\cdot 0.7$ <br>\n",
    "$P(X=9)=10\\cdot 1.37781\\cdot 10^{-5}$ <br>\n",
    "$P(X=9)=1.37781\\cdot 10^{-4}$ <br><br>\n",
    "\n",
    "##### Calculating $P(X=10)$\n",
    "$P(X=10)=\\binom{10}{10}(0.3)^{10}(0.7)^0$ <br>\n",
    "$\\binom{10}{10}=1$ <br>\n",
    "$P(X=10)=1\\cdot (0.3)^{10}\\cdot 1$ <br>\n",
    "$P(X=10)=(0.3)^{10}$ <br>\n",
    "$P(X=10)=5.9049\\cdot 10^{-6}$ <br><br>\n",
    "\n",
    "##### Summing up\n",
    "$P(X\\ge 9)=P(X=9)+P(X=10)$ <br>\n",
    "$P(X\\ge 9)=1.37781\\cdot 10^{-4}+5.9049\\cdot 10^-6$ <br>\n",
    "$P(X\\ge 9)=1.43686\\cdot 10^{-4}$ <br>\n",
    "$\\therefore$ the probability that at least nine out of ten people will recover, assuming the medication is worthless, is approximately **0.000143686**, or about **0.014%.**"
   ]
  },
  {
   "cell_type": "markdown",
   "id": "6d7caa8f-afe2-4769-ad9c-7ba57e6da9d8",
   "metadata": {},
   "source": [
    "#### **Question 4**:\n",
    "Given information\n",
    "- Total number of fuses in the lot $N = 5000$\n",
    "- Proportion of defective fuses $p = 0.05$\n",
    "- Sample size $n=5$ <br><br>\n",
    "We need to find the probability of observing at least one defective fuse, which is $P(X\\ge 1)$. <br>\n",
    "This is equivalent to : $P(X\\ge 1)=1-P(X=0)$, where X is the random variable representing the number of defective fuses in the sample."
   ]
  },
  {
   "cell_type": "markdown",
   "id": "faad11a4-7555-4e57-aa54-da7edea15cb5",
   "metadata": {},
   "source": [
    "#### Probability of zero defective fuses \n",
    "$P(X=0)$ <br>\n",
    "$P(X=0)=\\binom{5}{0}p^0(1-p)^{5-0}$ <br>\n",
    "$P(X=0)=1\\cdot (0.05)^0\\cdot (0.95)^5$ <br>\n",
    "$P(X=0)=(0.95)^5$ <br>\n",
    "$(0.95)^5\\approx 0.77378$\n"
   ]
  },
  {
   "cell_type": "markdown",
   "id": "1d071b68-fb59-4fc5-96e4-2184c0cdd546",
   "metadata": {},
   "source": [
    "#### Probability of at least one defective fuse \n",
    "$P(X\\ge 1)$ <br>\n",
    "$P(X\\ge 1)=1-P(X=0)$ <br>\n",
    "$P(X\\ge 1)=1-0.77378$ <br>\n",
    "$P(X\\ge 1)\\approx 0.22622$ <br>\n",
    "$\\therefore$ the probability of observing at least one defective fuse in a sample of 5 fuses is approximately **0.22622**, or about **22.62%**."
   ]
  },
  {
   "cell_type": "markdown",
   "id": "00eee617-8b99-4514-aa98-181415ee2c44",
   "metadata": {},
   "source": [
    "## TASK NO. 3\n",
    "#### **Question 1**:\n"
   ]
  },
  {
   "cell_type": "markdown",
   "id": "a1dd3568-db78-4fb2-a5ca-4c9af705df73",
   "metadata": {},
   "source": [
    "#### The expected value (mean) of discrete random variable Y is:\n",
    "#### $\\mathbb{E}\\left\\lbrack Y\\right\\rbrack=\\sum_{y=0}^{\\infty}y\\cdot p\\left(y\\right)$"
   ]
  },
  {
   "cell_type": "markdown",
   "id": "ac276ef2-7251-42b7-95dd-e58cfab66051",
   "metadata": {},
   "source": [
    "#### Substitute Poisson Probability: <br>\n",
    "#### $\\mathbb{E}\\left\\lbrack Y\\right\\rbrack=\\sum_{y=0}^{\\infty}y\\cdot\\frac{\\lambda^ye^{-\\lambda}}{y!}$"
   ]
  },
  {
   "cell_type": "markdown",
   "id": "5507a9b6-411c-44ec-b24e-4ec67bb101d5",
   "metadata": {},
   "source": [
    "#### Simplify the Sum: <br>\n",
    "#### $\\mathbb{E}\\left\\lbrack Y\\right\\rbrack=\\sum_{y=1}^{\\infty}y\\cdot\\frac{\\lambda^ye^{-\\lambda}}{y!}$ <br>\n",
    "#### $\\mathbb{E}\\left\\lbrack Y\\right\\rbrack=\\sum_{k=0}^{\\infty}\\left(k+1\\right)\\cdot\\frac{\\lambda^{k+1}e^{-\\lambda}}{(k+1)!}$"
   ]
  },
  {
   "cell_type": "markdown",
   "id": "53aab21d-a81c-44db-92f1-5b6d4d573265",
   "metadata": {},
   "source": [
    "#### $\\mathbb{E}\\left\\lbrack Y\\right\\rbrack=\\lambda e^{-\\lambda}\\sum_{k=0}^{\\infty}\\frac{\\lambda^k}{k!}$"
   ]
  },
  {
   "cell_type": "markdown",
   "id": "7e985771-4e03-4ad6-8720-906e9c83a06f",
   "metadata": {},
   "source": [
    "#### The sum $\\sum_{k=0}^{\\infty}\\frac{\\lambda^k}{k!}$ is the series expandion of $e^\\lambda$: "
   ]
  },
  {
   "cell_type": "markdown",
   "id": "37dd1cc1-c1c7-4d18-ae2c-6062b72358d3",
   "metadata": {},
   "source": [
    "### $\\sum_{k=0}^{\\infty}\\frac{\\lambda^k}{k!}=e^{\\lambda}$"
   ]
  },
  {
   "cell_type": "markdown",
   "id": "c2293d00-f345-4b0a-bc3c-a056018365b9",
   "metadata": {},
   "source": [
    "#### Combine and Simplify"
   ]
  },
  {
   "cell_type": "markdown",
   "id": "b356db70-3779-4095-b8b1-2862252bbbf6",
   "metadata": {},
   "source": [
    "#### $E\\left\\lbrack Y\\right\\rbrack=\\lambda e^{-\\lambda}\\cdot e^{\\lambda}$\n",
    "### $E\\left\\lbrack Y\\right\\rbrack=\\lambda \\longrightarrow$ general formula for the expected value"
   ]
  },
  {
   "cell_type": "markdown",
   "id": "04e3d490-6600-4657-80cf-d88fc9c7a9cd",
   "metadata": {},
   "source": [
    "#### **Question 2**:"
   ]
  },
  {
   "cell_type": "markdown",
   "id": "084aeece-6584-4c23-831b-a90c41735917",
   "metadata": {},
   "source": [
    "#### Calculate the probability using Poisson distribution formula:\n",
    "#### $P(Y=0)=\\frac{e^-55^0}{0!}$ <br>\n",
    "#### $P(Y=0)=e^-5$\n",
    "#### $P(Y=0)\\approx 0.0067$\n",
    "$\\therefore$ the probability that none of the regions contain seedlings is approximately **0.0067%**."
   ]
  },
  {
   "cell_type": "code",
   "execution_count": null,
   "id": "027928f2-65c6-40ea-b158-2d6151d44a1a",
   "metadata": {},
   "outputs": [],
   "source": []
  }
 ],
 "metadata": {
  "kernelspec": {
   "display_name": "Python 3 (ipykernel)",
   "language": "python",
   "name": "python3"
  },
  "language_info": {
   "codemirror_mode": {
    "name": "ipython",
    "version": 3
   },
   "file_extension": ".py",
   "mimetype": "text/x-python",
   "name": "python",
   "nbconvert_exporter": "python",
   "pygments_lexer": "ipython3",
   "version": "3.11.7"
  }
 },
 "nbformat": 4,
 "nbformat_minor": 5
}
