{
 "cells": [
  {
   "cell_type": "markdown",
   "id": "b8882028-c669-4d3a-a54e-3a061cc37d71",
   "metadata": {},
   "source": [
    "# LECTURE 1 - ASSIGNMENT"
   ]
  },
  {
   "cell_type": "markdown",
   "id": "9d93f485-5ce0-4a1a-9658-de4e89337363",
   "metadata": {},
   "source": [
    "## ITEM NO. 1\n",
    "\n",
    "Recall the definition of a rational number, denoted as $\\mathbb{Q}$. Prove that the Euler's number $e=\\sum_{k=0}^{{\\infty}}\\frac{1}{k!}\\notin\\mathbb{Q}$. A factorial is defined as $k! = (k)(k-1)(k-2)(k-3)..., \\forall k \\in \\mathbb{Z}^{+}$, note that $0! = 1$. Furthermore, a sum notation $\\sum_{k=0}^{\\infty}k=0+1+2_{}+3+\\cdots+\\cdots$ \n"
   ]
  },
  {
   "cell_type": "markdown",
   "id": "e1ebb2d3-fe2e-4ea6-b4a9-1b7d39f3215a",
   "metadata": {},
   "source": [
    "Assume that $e=\\frac{a}{b}, a,b \\in \\mathbb{Z}^{+}$"
   ]
  },
  {
   "cell_type": "markdown",
   "id": "46c418ef-4c06-4f1f-bc1c-645fb253c02d",
   "metadata": {},
   "source": [
    "$=b!e=b!\\cdot\\frac{a}{b}\\Rightarrow Integer$ "
   ]
  },
  {
   "cell_type": "markdown",
   "id": "0619fc4b-9771-4dcf-b246-402283d32005",
   "metadata": {},
   "source": [
    "$b!=\\left(1+\\frac{1}{1!}+\\frac{1}{2!}+\\frac{1}{3!}\\ldots+\\frac{1}{b!}+\\frac{1}{\\left(b+1\\right)!}+\\frac{1}{\\left(b+2\\right)!}+\\cdots\\right)$"
   ]
  },
  {
   "cell_type": "markdown",
   "id": "3047b75c-5a56-4f5a-812e-d311c2e87cd3",
   "metadata": {},
   "source": [
    "$b!=(1+\\frac{1}{1!}+\\frac{1}{2!}+\\frac{1}{3!}\\ldots+\\frac{1}{b!})+b!\\left(\\frac{1}{\\left(b+1\\right)!}+\\frac{1}{\\left(b+2\\right)!}+\\cdots\\right)$\n"
   ]
  },
  {
   "cell_type": "markdown",
   "id": "06d34f7f-d589-4181-872e-ed48cc06f9ac",
   "metadata": {},
   "source": [
    "The left side is an integer. Now Let us prove that the right side is between 0 and 1."
   ]
  },
  {
   "cell_type": "markdown",
   "id": "af7e9a1f-97b5-4369-b75a-761175880353",
   "metadata": {},
   "source": [
    "$x=\\frac{1}{b+1}+\\frac{1}{(b+2)(b+1)}+\\frac{1}{(b+3)(b+2)(b+1)}+...<\\frac{1}{b+1}+\\frac{1}{\\left(b+1\\right)\\left(b+1\\right)}+\\frac{1}{\\left(b+1\\right)\\left(b+1\\right)\\left(b+1\\right)}+...$"
   ]
  },
  {
   "cell_type": "markdown",
   "id": "12c48d11-208b-4763-bae7-51b6033bc64e",
   "metadata": {},
   "source": [
    "$=\\frac{}{}\\frac{a}{1-r}=\\frac{\\frac{1}{b+1}}{\\left(1-\\frac{1}{b+1}\\right)}\\frac{\\left(b+1\\right)}{\\left(b+1\\right)}=\\frac{1}{b+1-1}=\\frac{1}{b}$ "
   ]
  },
  {
   "cell_type": "markdown",
   "id": "fcf17d09-1b87-47bc-bf80-4dd1828ae4da",
   "metadata": {},
   "source": [
    "$=\\frac{1}{b}<1 \\longrightarrow$ x is between 0 and 1 which is not an integer which makes it a contradiction. Therefore, $e=\\frac{a}{b}\\notin \\mathbb{Q}.$ <br><br>"
   ]
  },
  {
   "cell_type": "markdown",
   "id": "14857463-dd6b-4eb6-8441-00268f862d21",
   "metadata": {},
   "source": [
    "## ITEM NO. 2\n",
    "Prove Minkowski's Inequality for sums, $\\forall p>1,(a_k,b_k)>0$"
   ]
  },
  {
   "cell_type": "markdown",
   "id": "eab470d5-291d-4064-ab84-0be3c43e9612",
   "metadata": {},
   "source": [
    "##### 1st Step: Calculate $(|a_k|)^p$ and $(|b_k|)^p$"
   ]
  },
  {
   "cell_type": "markdown",
   "id": "06a9b54e-ff2e-47e7-9135-419ef20583f3",
   "metadata": {},
   "source": [
    " #### $(|a_k|)^p=\\left|a_k\\right|^p$ and $(|b_k|)^p=\\left|b_k\\right|^p$"
   ]
  },
  {
   "cell_type": "markdown",
   "id": "f33a6276-aee0-4852-8701-afd11a0e91a6",
   "metadata": {},
   "source": [
    "##### 2nd Step: Apply Holder's Inequality "
   ]
  },
  {
   "cell_type": "markdown",
   "id": "43549e10-cd0b-41f9-be7c-878388c32359",
   "metadata": {},
   "source": [
    "#### $\\sum_{k=1}^n\\left(\\left|a_k\\right|+\\left|b_k\\right|^p\\right)\\le\\left(\\sum_{k=1}^n1\\right)^{\\frac{1}{q}}\\left(\\sum_{k=1}^n\\left(\\left|a_k\\right|+\\left|b_k\\right|\\right)^p\\right)^{\\frac{1}{p}}$"
   ]
  },
  {
   "cell_type": "markdown",
   "id": "58a72a44-2207-4d83-be40-edfdb17e2bb7",
   "metadata": {},
   "source": [
    "##### 3rd Step: Substitute the values and simplify"
   ]
  },
  {
   "cell_type": "markdown",
   "id": "08fab505-ce7f-4a59-a1b0-e53c2d275d19",
   "metadata": {},
   "source": [
    "#### $\\sum_{k=1}^n\\left(\\left|a_k\\right|+\\left|b_k\\right|\\right)^p\\le\\sum_{k=1}^n2^{p-1}\\left(\\left|a_k\\right|+\\left|b_k\\right|^p\\right)=2^{p-1}\\left(\\sum_{k=1}^n\\left|a_k\\right|^p+\\sum_{k=1}^n\\left|b_k\\right|^p\\right)$"
   ]
  },
  {
   "cell_type": "markdown",
   "id": "5746486f-5562-4909-a400-c18476d3e076",
   "metadata": {},
   "source": [
    "##### 4th Step: Raise both sides to the power of $\\frac{1}{p}$"
   ]
  },
  {
   "cell_type": "markdown",
   "id": "9b3fb409-b8b5-45c0-bc42-c6c096c0532b",
   "metadata": {},
   "source": [
    "#### $\\left(\\sum_{k=1}^n\\left(\\left|a_k\\right|+\\left|b_k\\right|\\right)^p\\right)^{\\frac{1}{p}}\\le\\left(2^{p-1}\\left(\\sum_{k=1}^n\\left|a_k\\right|^p+\\sum_{k=1}^n\\left|b_k\\right|^p\\right)\\right)^{\\frac{1}{p}}$"
   ]
  },
  {
   "cell_type": "markdown",
   "id": "8d9229a3-01b8-4e55-bdc2-84bfb2a45d85",
   "metadata": {},
   "source": [
    "##### 5th Step: Apply the definition of the $L_p$ norm\n",
    "Simplify the expression:"
   ]
  },
  {
   "cell_type": "markdown",
   "id": "2615f837-5fae-4532-b218-12ff86b4e6a5",
   "metadata": {},
   "source": [
    "#### $(2^{p-1}\\left(\\sum_{k=1}^n\\left|a_k\\right|^p+\\sum_{k=1}^n\\left|b_k|^p\\right)\\right)^{\\frac{1}{p}}=2^{\\frac{p-1}{p}}\\left(\\sum_{k=1}^n\\left|a_k\\right|^p+\\left|b_k\\right|^p\\right)^{\\frac{1}{p}}$\n",
    "\n",
    "Since $2^\\frac{p-1}{p} \\le 2$, we get: "
   ]
  },
  {
   "cell_type": "markdown",
   "id": "4b37f059-222e-4e00-a8ff-6d5eebb7d2be",
   "metadata": {},
   "source": [
    "#### $\\left(\\sum_{k=1}^n\\left(\\left|a_k\\right|+\\left|b_k\\right|^p\\right)\\right)^{\\frac{1}{p}}\\le2\\left(\\sum_{k=1}^n\\left|a_k\\right|^p\\right)^{\\frac{1}{p}}+2\\left(\\sum_{k=1}^n\\left|b_k\\right|^p\\right)^{\\frac{1}{p}}$"
   ]
  },
  {
   "cell_type": "markdown",
   "id": "4521b81c-b2d7-479c-a7bb-a258ee0e3a00",
   "metadata": {},
   "source": [
    "#### We simplify the right side $\\therefore\\left(\\sum_{k=1}^n\\left(\\left|a_k\\right|+\\left|b_k\\right|^p\\right)\\right)^{\\frac{1}{p}}\\le\\left(\\sum_{k=1}^n\\left|a_k\\right|^p\\right)^{\\frac{1}{p}}+\\left(\\sum_{k=1}^n\\left|b_k\\right|^p\\right)^{\\frac{1}{p}}$ <br><br>"
   ]
  },
  {
   "cell_type": "markdown",
   "id": "a508a6d4-1807-480b-9cfd-a619310b54df",
   "metadata": {},
   "source": [
    "## ITEM NO. 3\n",
    "Prove the triangle inequality $|x+y|\\le|x|+\\left|y\\right|,\\forall(x,y)\\in\\mathbb{R}:$"
   ]
  },
  {
   "cell_type": "markdown",
   "id": "ec71dc74-56cd-4696-951b-eac94f838882",
   "metadata": {},
   "source": [
    "$\\forall(x,y)\\in\\mathbb{R},(|x|+|y|)^2$"
   ]
  },
  {
   "cell_type": "markdown",
   "id": "9b156b3b-3866-49bb-9630-635f58e76540",
   "metadata": {},
   "source": [
    "$=|x|^{2}+2|x||y|+|y|^2 \\ge x^2+2xy+y^2$ <br> $=(x+y)^2$ <br> $=|x+y|^2$\n",
    "<br> So, $(|x+y|)^2 \\ge |x+y|^2$ \n",
    "<br> \n",
    "#### So $|x|+|y|\\ge |x+y|; i.e., |x+y|\\le|x|+|y|.$ <br><br>"
   ]
  },
  {
   "cell_type": "markdown",
   "id": "e27da1c6-b9b3-4fa9-9091-9091a67e1d59",
   "metadata": {},
   "source": [
    "## ITEM NO. 4\n",
    "Prove Sedrakayan's Lemma $\\forall u_i,v_i,\\in\\mathbb{R}^{+}:$"
   ]
  },
  {
   "cell_type": "markdown",
   "id": "6c0b2e52-5d92-41c1-bd8e-fbb1c15298c5",
   "metadata": {},
   "source": [
    "##### 1st Step: Expand the left side\n",
    "### $\\frac{}{}\\frac{\\left(\\sum_{i=1}^nu_i\\right)^2}{\\sum_{i=1}^nv_i}=\\frac{\\sum_{i=1}^nu_i\\cdot\\sum_{i=1}^nu_i}{\\sum_{i=1}^nv_i}_{}$"
   ]
  },
  {
   "cell_type": "markdown",
   "id": "70449366-cd18-42a6-8d54-8da2715fefdd",
   "metadata": {},
   "source": [
    "##### 2nd Step: Expand the numerator\n",
    "### $=\\frac{\\sum_{i=1}^n\\left(u_i\\right)^2+2\\sum_{1\\le i<j\\le n}^{{}}u_iu_j}{\\sum_{i=1}^nv_i}$"
   ]
  },
  {
   "cell_type": "markdown",
   "id": "3c8feaa4-9852-456e-aee3-5b71c4524aab",
   "metadata": {},
   "source": [
    "##### 3rd Step: Divide each term in the numerator by ${\\sum_{i=1}^nv_i}_{}$\n",
    "### $=\\sum_{i=1}^n\\frac{\\left(u_i\\right)^2}{v_i}+2\\sum_{1\\le i<j\\le n}^{{}}\\frac{u_iu_j}{\\sum_{i=1}^nv_i}$"
   ]
  },
  {
   "cell_type": "markdown",
   "id": "9cdfe395-7afb-45f1-be34-128e5710d60f",
   "metadata": {},
   "source": [
    "##### 4th Step: Since $u_i,v_i,\\in\\mathbb{R}^{+}$, \n",
    "<br> we know that \n",
    "### $\\frac{u_iu_j}{\\sum_{i=1}^nv_i}\\le\\frac{\\left(u_i\\right)^2}{v_i}$\n",
    "<br> Therefore, \n",
    "### $2\\sum_{1\\le i<j\\le n}^{}\\frac{u_iu_j}{\\sum_{i=1}^nv_i}\\le2\\sum_{1\\le i<j\\le n}^{}\\frac{\\left(u_i\\right)^2}{v_i}$"
   ]
  },
  {
   "cell_type": "markdown",
   "id": "eb482265-b6e9-40e5-b730-f91434237ee3",
   "metadata": {},
   "source": [
    "##### 5th Step: Substitute it back into the expanded form\n",
    "#### $=\\sum_{i=1}^n\\frac{\\left(u_i\\right)^2}{v_i}+2\\sum_{1\\le i<j\\le<j\\le n}\\frac{u_iu_j}{\\sum_{i=1}^nv_i}\\le\\sum_{i=1}^n\\frac{\\left(u_i\\right)^2}{v_i}+2\\sum_{1\\le i<j\\le n}^{}\\frac{\\left(u_i\\right)^2}{v_i}$\n"
   ]
  },
  {
   "cell_type": "markdown",
   "id": "30cfdfd9-b9e3-41ac-a0ba-c0e026620034",
   "metadata": {},
   "source": [
    "##### 6th Step: Simplify the right side\n",
    "### $=\\sum_{i=1}^n\\frac{\\left(u_i\\right)^2}{v_i}+2n\\left(n-1\\right)\\sum_{1\\le i<j\\le n}^{}\\frac{\\left(u_1\\right)^2}{v_i}$\n",
    "### $\\therefore(1+2n(n-1)^2)\\sum_{i=1}^n\\frac{\\left(u_i\\right)^2}{v_i}$ <br><br>"
   ]
  },
  {
   "cell_type": "markdown",
   "id": "7f1cae12-6a54-4d8a-a361-099624c329f1",
   "metadata": {},
   "source": [
    "## ITEM NO. 5\n",
    "Consider the functions $f(x) = 2x+1$, $g(x)=2y-1$, $j(x) = |f(x)+g(x)|$, and $h(x) = j(x)^2$, show for the following inequality that:\n",
    "<br>\n",
    "$\\sqrt{\\left|f(x\\right)|^2}\\ge\\sqrt{h\\left(x\\right)}-\\sqrt{\\left|g(x\\right)|^2},\\forall\\left(x,y\\right)\\in\\mathbb{Z}^+$ "
   ]
  },
  {
   "cell_type": "markdown",
   "id": "eac983cf-fb09-4880-9acb-95c79e31302e",
   "metadata": {},
   "source": [
    "##### **1st Step: Evaluate each function**\n",
    "1. Function f(x): $f(x)=2x+1$\n",
    "2. Function g(x): $g(x)=2y-1$\n",
    "3. Function j(x): $j(x)=|f(x)+g(x)|=|(2x+1)+(2y-1)|=|2x+2y|$\n",
    "4. Function h(x): $h(x)=j(x)^2=(2(x+y))^2=4(x+y)^2$"
   ]
  },
  {
   "cell_type": "markdown",
   "id": "a31039eb-f5ab-4596-8072-1d44f9e92f90",
   "metadata": {},
   "source": [
    "##### **2nd Step: Simplify each part**\n",
    "1. **Left side:** $\\sqrt{\\left|f(x\\right)|^2}=\\sqrt{\\left(2x+1\\right)^2}$\n",
    "<br><br> Since $(2x+1)^2$ is always non-negative:\n",
    "$\\sqrt{\\left(2x+1\\right)^2}=\\left|2x+1\\right|=2x-1$ <br><br>\n",
    "2. **Right side:**\n",
    "We need to find $\\sqrt{h\\left(x\\right)}-\\sqrt{\\left|g(x\\right)|^2}:$ <br><br> $\\sqrt{h\\left(x\\right)}=\\sqrt{4\\left(x+y\\right)^2}=2\\left|x+y\\right|$ <br><br>\n",
    "Since x and y are positive integers: $\\sqrt{h\\left(x\\right)}=2\\left(x+y\\right)$ <br><br>\n",
    "Now, for $\\sqrt{\\left|g(x\\right)|^2}:$ $\\sqrt{\\left|g(x\\right)|^2}=\\sqrt{\\left(2y-1\\right)^2}$ <br><br>\n",
    "Since $(2y-1)^2$ is always non-negative: $\\sqrt{\\left(2y-1\\right)^2}=\\left|2y-1_{}\\right|=2y-1$\n",
    "\n"
   ]
  },
  {
   "cell_type": "markdown",
   "id": "455d9724-9c04-4300-8478-00fc7e50ff85",
   "metadata": {},
   "source": [
    "##### **3rd Step: Combine and simplify the inequality**\n",
    "The inequality becomes:    $2x+1\\ge2(x+y)-(2y-1)$ <br>\n",
    "Simplify the right side: $2(x+y)-(2y-1)=2x+2y-2y+1=2x+1$ <br>\n",
    "#### So, the inequality simplifies to: $2x+1\\ge2x+1$\n",
    "#### This inequality is true $\\forall\\left(x,y\\right)\\in\\mathbb{Z}^+$. <br><br>"
   ]
  },
  {
   "cell_type": "markdown",
   "id": "5127424e-b794-4b41-bba7-d6568b31a3cf",
   "metadata": {},
   "source": [
    "## ITEM NO. 6\n",
    "Prove that Sedrakayan's Lemma if  $u_i,v_i$ are square roots of an even integers: <br>\n",
    "#### $\\frac{\\left(\\sum_{i=1}^nu_i\\right)^2}{\\sum_{i=1}^nv_i}\\le\\sum_{i=1}^n\\frac{\\left(u_i\\right)^2}{v_i}$"
   ]
  },
  {
   "cell_type": "markdown",
   "id": "bf09eb0b-5535-4f55-b0b9-7838080014ca",
   "metadata": {},
   "source": [
    "##### **1st Step: Evaluate each function**\n",
    "#### $\\left(\\sum_{i=1}^nu_i\\right)^2=\\sum_{i=1}^n\\left(u_i\\right)^2+2\\sum_{1\\le i<j\\le n}^{}u_iv_j$"
   ]
  },
  {
   "cell_type": "markdown",
   "id": "be1665b7-d33a-421e-ac9d-a322869edf10",
   "metadata": {},
   "source": [
    "##### **2nd Step: Divide by** $\\sum_{i=1}^nv_i$ **to get:**\n",
    "#### $\\frac{}{}\\frac{\\left(\\sum_{i=1}^nu_i\\right)^2}{\\sum_{i=1}^nv_i}=\\sum_{i=1}^n\\frac{\\left(u_i\\right)^2}{v_i}+2\\sum_{1\\le i<j\\le n}^{}\\frac{u_iu_j}{v_i+v_j}$ <br><br> *Since $v_i$ are square roots of even integers, $v_i + v_j$ is even. Thus, the right side is greater.*"
   ]
  },
  {
   "cell_type": "code",
   "execution_count": null,
   "id": "be057247-d4a6-49f5-b516-5be6c1d4570f",
   "metadata": {},
   "outputs": [],
   "source": []
  }
 ],
 "metadata": {
  "kernelspec": {
   "display_name": "Python 3 (ipykernel)",
   "language": "python",
   "name": "python3"
  },
  "language_info": {
   "codemirror_mode": {
    "name": "ipython",
    "version": 3
   },
   "file_extension": ".py",
   "mimetype": "text/x-python",
   "name": "python",
   "nbconvert_exporter": "python",
   "pygments_lexer": "ipython3",
   "version": "3.11.7"
  }
 },
 "nbformat": 4,
 "nbformat_minor": 5
}
